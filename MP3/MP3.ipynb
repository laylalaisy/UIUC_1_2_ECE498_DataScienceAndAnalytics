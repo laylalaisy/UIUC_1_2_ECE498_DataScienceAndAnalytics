{
 "cells": [
  {
   "cell_type": "code",
   "execution_count": 1,
   "metadata": {},
   "outputs": [
    {
     "ename": "ModuleNotFoundError",
     "evalue": "No module named 'opengm'",
     "output_type": "error",
     "traceback": [
      "\u001b[0;31m---------------------------------------------------------------------------\u001b[0m",
      "\u001b[0;31mModuleNotFoundError\u001b[0m                       Traceback (most recent call last)",
      "\u001b[0;32m<ipython-input-1-df32770c2de8>\u001b[0m in \u001b[0;36m<module>\u001b[0;34m\u001b[0m\n\u001b[0;32m----> 1\u001b[0;31m \u001b[0;32mimport\u001b[0m \u001b[0mopengm\u001b[0m\u001b[0;34m\u001b[0m\u001b[0;34m\u001b[0m\u001b[0m\n\u001b[0m\u001b[1;32m      2\u001b[0m \u001b[0;32mimport\u001b[0m \u001b[0mnumpy\u001b[0m \u001b[0;32mas\u001b[0m \u001b[0mnp\u001b[0m\u001b[0;34m\u001b[0m\u001b[0;34m\u001b[0m\u001b[0m\n\u001b[1;32m      3\u001b[0m \u001b[0;34m\u001b[0m\u001b[0m\n\u001b[1;32m      4\u001b[0m \u001b[0;32mimport\u001b[0m \u001b[0msys\u001b[0m\u001b[0;34m\u001b[0m\u001b[0;34m\u001b[0m\u001b[0m\n\u001b[1;32m      5\u001b[0m \u001b[0;32mimport\u001b[0m \u001b[0mlogging\u001b[0m\u001b[0;34m\u001b[0m\u001b[0;34m\u001b[0m\u001b[0m\n",
      "\u001b[0;31mModuleNotFoundError\u001b[0m: No module named 'opengm'"
     ]
    }
   ],
   "source": [
    "import opengm\n",
    "import numpy as np\n",
    "\n",
    "import sys\n",
    "import logging\n",
    "logging.basicConfig(level=logging.DEBUG,\n",
    "                    format='[%(levelname)s] (%(threadName)-10s) %(message)s',\n",
    "                    stream=sys.stdout)\n",
    "logging.info(\"Imports successful\")"
   ]
  },
  {
   "cell_type": "code",
   "execution_count": null,
   "metadata": {},
   "outputs": [],
   "source": [
    "class FactorGraph(object):\n",
    "    \n",
    "    def __init__(self):\n",
    "        logging.debug(\"Created Factor Graph Object\")\n",
    "    \n",
    "    def infer(self):\n",
    "        logging.info(\"Running Inference\")\n",
    "        ###########################\n",
    "        # define binary variables #\n",
    "        ###########################\n",
    "        # two binary variables: \n",
    "        # var 0 (stage S1): dimension is 2\n",
    "        # var 1 (event E1): dimension is 2\n",
    "        variables = [2,2]\n",
    "\n",
    "        ################################\n",
    "        # # construct the Factor Graph #\n",
    "        ################################\n",
    "        gm = opengm.graphicalModel(variables, operator='multiplier')\n",
    "\n",
    "        ########################################################################################\n",
    "        # TODO: Fill in values in g_func, and g_var, according to the provided tables #\n",
    "        ########################################################################################\n",
    "        f_func = np.array([0.85, 0.15])   # priors f\n",
    "        f_var = [0]                       # f(S1) using S1 as variable 0\n",
    "        g_func = np.array([[0, 0.2], [0, 0.5]])    # factor function g\n",
    "        g_var = [0, 1]                    # g(S1, S2)\n",
    "        ############\n",
    "        # END TODO #\n",
    "        ############\n",
    "\n",
    "\n",
    "        ##################################\n",
    "        # connect factor functions to FG #\n",
    "        ##################################\n",
    "\n",
    "        gm.addFactor(gm.addFunction(f_func),f_var) # add prior to event\n",
    "        gm.addFactor(gm.addFunction(g_func),g_var) # add factor function to event (E1) and stage (S1)\n",
    "\n",
    "\n",
    "        ##################################\n",
    "        # # belief propagation inference #\n",
    "        ##################################\n",
    "        inf=opengm.inference.BeliefPropagation(gm,accumulator='maximizer')\n",
    "        inf.infer()\n",
    "\n",
    "        ##############\n",
    "        # get argmax #\n",
    "        ##############\n",
    "\n",
    "        arg=inf.arg()\n",
    "        print(\"Inference result: \", arg)\n",
    "\n",
    "        ##############################\n",
    "        # get marginal probabilities #\n",
    "        ##############################\n",
    "        marginals = inf.marginals(range(len(variables)))\n",
    "\n",
    "        #############################################################\n",
    "        # # get marginal of the state variable (variable index = 0) #\n",
    "        #############################################################\n",
    "        vars = [0]\n",
    "        for i in vars:\n",
    "            marginals_xi = marginals[i]\n",
    "            marginals_xi /= np.sum(marginals_xi)\n",
    "            print(\"x_{} marginal: {}\".format(i, marginals_xi))\n",
    "        pass\n"
   ]
  },
  {
   "cell_type": "code",
   "execution_count": null,
   "metadata": {},
   "outputs": [],
   "source": [
    "m = FactorGraph()\n",
    "m.infer()"
   ]
  },
  {
   "cell_type": "code",
   "execution_count": null,
   "metadata": {},
   "outputs": [],
   "source": [
    "**Compute the marginal probability P(S1)**   \n",
    "\n",
    "- P{S1=0} = 0.69387755\n",
    "- P{S1=1} = 0.30612245\n",
    "\n",
    "**What value of S1 maximizes the marginal probability P(S1)? Explain.**\n",
    "\n",
    "- According to the result above, S1=0 maximizes the marginal probability.\n",
    "\n",
    "**Verify your results with hand calculations. Show all steps of your work.**\n",
    "\n",
    "- step 1:\n",
    "    - $$P\\{S1=0, E1=0\\} = \\frac{1}{Z} * 0.85 * 0 = 0$$\n",
    "    - $$P\\{S1=0, E1=1\\} = \\frac{1}{Z} * 0.85 * 0.2 = \\frac{0.17}{Z}$$\n",
    "    - $$P\\{S1=1, E1=0\\} = \\frac{1}{Z} * 0.15 * 0 = 0$$\n",
    "    - $$P\\{S1=1, E1=1\\} = \\frac{1}{Z} * 0.15 * 0.5 = \\frac{0.075}{Z}$$\n",
    "- step 2:\n",
    "    - $$Z = 0+0.17+0+0.075=0.245$$\n",
    "- step 3: \n",
    "    - $$P\\{S1=0, E1=0\\} = \\frac{1}{Z} * 0.85 * 0 = 0$$\n",
    "    - $$P\\{S1=0, E1=1\\} = \\frac{1}{Z} * 0.85 * 0.2 = \\frac{0.17}{Z} =  \\frac{0.17}{0.245} = 0.69387755$$\n",
    "    - $$P\\{S1=1, E1=0\\} = \\frac{1}{Z} * 0.15 * 0 = 0$$\n",
    "    - $$P\\{S1=1, E1=1\\} = \\frac{1}{Z} * 0.15 * 0.5 = \\frac{0.075}{Z} = \\frac{0.075}{0.245} = 0.30612245$$"
   ]
  },
  {
   "cell_type": "code",
   "execution_count": null,
   "metadata": {
    "colab": {},
    "colab_type": "code",
    "id": "SScGEemPuB_3"
   },
   "outputs": [],
   "source": [
    "import opengm\n",
    "import numpy as np\n",
    "from operator import itemgetter\n",
    "\n",
    "import sys\n",
    "import logging\n",
    "logging.basicConfig(level=logging.DEBUG,\n",
    "                    format='[%(levelname)s] (%(threadName)-10s) %(message)s',\n",
    "                    stream=sys.stdout \n",
    ")\n",
    "\n",
    "class FactorGraph(object):\n",
    "    \n",
    "    def __init__(self, variables, operator='multiplier'):\n",
    "        \"\"\"\n",
    "        Factor Graph Class\n",
    "        :param variables: list of tuples mapping graph variable names\n",
    "                          to dimensionality.\n",
    "                          For example, to define 2 binary variables:\n",
    "                          [\n",
    "                             ('A', 2),\n",
    "                             ('B', 2)\n",
    "                          ]\n",
    "        :param operator: Factor graph operator, leave as 'multiplier'\n",
    "        \"\"\"\n",
    "        assert isinstance(variables, list)\n",
    "        \n",
    "        self.var_names, dimensionality = zip(*variables)\n",
    "        self.var_names = list(self.var_names)\n",
    "        dimensionality = list(dimensionality)\n",
    "\n",
    "        # create factor graph with opengm\n",
    "        self.gm = opengm.graphicalModel(dimensionality, \n",
    "                                        operator=operator)\n",
    "        \n",
    "        self.inference = None\n",
    "        \n",
    "    \n",
    "    def add_factor_function(self, variables, probabilities):\n",
    "        \"\"\"\n",
    "        Add a factor function to the factor graph\n",
    "        \n",
    "        :param variables: variables to connect in the factor graph\n",
    "         NOTE: Variables must be specified in the same order as\n",
    "               the initialization function of the Factor Graph\n",
    "               \n",
    "        :probabilities: Probability table for factor function\n",
    "        \"\"\"\n",
    "        \n",
    "        # convert probability list to np.array\n",
    "        if not isinstance(probabilities, np.ndarray):\n",
    "            probabilities = np.array(probabilities)\n",
    "        \n",
    "        # if a single variable is specified,\n",
    "        # convert it to a list\n",
    "        if not isinstance(variables, list):\n",
    "            variables = [variables]\n",
    "        \n",
    "        # convert variable names to indices\n",
    "        variables = [self.var_names.index(v) for v in variables]\n",
    "        \n",
    "        # add factor function to graph\n",
    "        self.gm.addFactor(self.gm.addFunction(probabilities),\n",
    "                          variables)\n",
    "        \n",
    "        # reset the inference\n",
    "        self.inference = None\n",
    "    \n",
    "    def infer(self):\n",
    "        \"\"\"\n",
    "        Run inference on the defined factor graph\n",
    "        \"\"\"\n",
    "        self.inference = opengm.inference.BeliefPropagation(self.gm, accumulator='maximizer')\n",
    "        self.inference.infer()\n",
    "        \n",
    "    def get_argmax(self):\n",
    "        \"\"\"\n",
    "        Return index of state with maximum probability\n",
    "        \"\"\"\n",
    "        if not self.inference:\n",
    "            self.infer()\n",
    "            \n",
    "        argmax = self.inference.arg()\n",
    "        \n",
    "        return dict((vn, argmax[i]) for i, vn in enumerate(self.var_names))\n",
    "    \n",
    "    def get_marginals(self, marginal_vars):\n",
    "        \"\"\"\n",
    "        Get marginal probabilities for specified variables\n",
    "        \"\"\"\n",
    "        if not isinstance(marginal_vars, list):\n",
    "            marginal_vars = [marginal_vars]\n",
    "        \n",
    "        if not self.inference:\n",
    "            self.infer()\n",
    "            \n",
    "        \n",
    "        marginal_probabilities =  self.inference.marginals(range(len(self.var_names)))\n",
    "        marginals_ret = {}\n",
    "        for v in marginal_vars:\n",
    "            i = self.var_names.index(v)\n",
    "            marginals_v = marginal_probabilities[i]\n",
    "            marginals_v /= np.sum(marginals_v)\n",
    "            marginals_ret[v] = marginals_v\n",
    "            \n",
    "        return marginals_ret\n",
    "    \n",
    "\n"
   ]
  },
  {
   "cell_type": "code",
   "execution_count": null,
   "metadata": {
    "colab": {},
    "colab_type": "code",
    "id": "i3RuFs33uB__"
   },
   "outputs": [],
   "source": [
    "ATTACK_STATES_MAP = {\n",
    "    'benign': 1,\n",
    "    'discovery': 2,\n",
    "    'access': 3,\n",
    "    'lateral_movement': 4,\n",
    "    'privilege_escalation': 5,\n",
    "    'persistence': 6,\n",
    "    'defense_evasion': 7,\n",
    "    'collection': 8,\n",
    "    'exfiltration': 9,\n",
    "    'command_control': 10,\n",
    "    'execution': 11\n",
    "}\n",
    "\n",
    "\n",
    "ACTIONS = {\n",
    "    # each value in an actions' vector corresponds to an attack stage\n",
    "    'NO-OP':   [1.,   0.61, 0.69, 0.09, 0.2 , 0. ,  0.,   0.,   0. ,  0. ,  0.  ],\n",
    "    'MONITOR': [0.  , 0.39, 0.31 ,0.84, 0.63, 0.7,  0.07 ,0.1 , 0. ,  0. ,  0.  ],\n",
    "    'STOP':    [0.  , 0.,   0.  , 0.07, 0.17, 0.3,  0.93 ,0.9 , 1. ,  1. ,  1.  ]\n",
    "}\n",
    "\n",
    "\n",
    "def get_prob(stages, p, q):\n",
    "    assert len(p) == len(q) == len(stages)\n",
    "    prob = np.zeros(11)\n",
    "    for i in range(len(p)):\n",
    "        stage_idx = ATTACK_STATES_MAP[stages[i]] - 1\n",
    "        prob[stage_idx] = q[i] * (1 - p[i])\n",
    "    # convert to an 1 x 11 matrix\n",
    "    return np.array(prob)\n",
    "    \n"
   ]
  },
  {
   "cell_type": "code",
   "execution_count": null,
   "metadata": {
    "colab": {},
    "colab_type": "code",
    "id": "4AwTOcdLuCAB",
    "outputId": "7cbecf0a-04f4-4f31-f892-c28efb2c0424"
   },
   "outputs": [],
   "source": [
    "\"\"\"\n",
    "As an example, we provide the Factor Graph at t=1 with several blanks for you to fill in\n",
    "Your task is to come up with a general Factor Graph model \n",
    "that is parametrized for some general time t\n",
    "\"\"\"\n",
    "# our sequence of events is simply ['scan']\n",
    "\n",
    "\n",
    "###################################################\n",
    "# TODO: Fill in the dimension value for stage S1  #\n",
    "###################################################\n",
    "m = FactorGraph([('S1', 11)])\n",
    "############\n",
    "# END TODO #\n",
    "############\n",
    "\n",
    "\n",
    "# add the f_1 factor function \n",
    "###############################################################################\n",
    "# TODO: Fill in the p, q values for discovery and benign stages respectively  #\n",
    "###############################################################################\n",
    "m.add_factor_function('S1', get_prob(['discovery', 'benign'], [0.03, 0.52], [0.5, 0.5]))\n",
    "############\n",
    "# END TODO #\n",
    "############\n",
    "\n",
    "\n",
    "# run inference\n",
    "m.infer()\n",
    "\n",
    "# get argmax and S1 marginal probabilities\n",
    "######################################################################################################\n",
    "# TODO: Call the function in class FactorGraph that returns index of state with maximum probability  #\n",
    "######################################################################################################\n",
    "argmax = m.get_argmax()\n",
    "############\n",
    "# END TODO #\n",
    "############\n",
    "\n",
    "marginal_S1 = m.get_marginals('S1')\n",
    "\n",
    "print(argmax)\n",
    "print(marginal_S1)\n",
    "\n",
    "# argmax(marginal_S1) = 1, which represents the discovery attack state (2nd position in array)\n",
    "\n",
    "# to determine the action to be taken, we look at the probability values\n",
    "# for the discovery stage for all posible actions, and pick the action\n",
    "# with the maximum probability\n",
    "idx = argmax['S1']\n",
    "action_probabilities = [(k, stage_list[idx]) for k, stage_list in ACTIONS.items()]\n",
    "print(action_probabilities)\n",
    "\n",
    "#####################################################################\n",
    "# TODO: Provide the argmax action corresponding to the argmax stage #\n",
    "#####################################################################\n",
    "\n",
    "    \n",
    "max_action = action_probabilities[np.argmax([x[1] for x in action_probabilities])][0]\n",
    "############\n",
    "# END TODO #\n",
    "############\n",
    "\n",
    "#max_action, max_probability = max(action_probabilities, key=itemgetter(1))\n",
    "print(max_action)"
   ]
  },
  {
   "cell_type": "markdown",
   "metadata": {
    "colab_type": "text",
    "id": "h5wUYqU3uCAK"
   },
   "source": [
    "# TASK 3.1 "
   ]
  },
  {
   "cell_type": "markdown",
   "metadata": {
    "colab_type": "text",
    "id": "nl1tTmDxuCAM"
   },
   "source": [
    "**FACTOR GRAPH FOR T=1 to T=9**"
   ]
  },
  {
   "cell_type": "code",
   "execution_count": null,
   "metadata": {
    "colab": {},
    "colab_type": "code",
    "id": "zFXiQg4CuCAO"
   },
   "outputs": [],
   "source": [
    "# HINT: Since you only require the argmax of the ACTION dictionary at each stage,\n",
    "#       convert the dictionary to a list of actions indexed by stage instead\n",
    "Dictionary={'scan':[['discovery','benign'],[0.03,0.52],[0.5,0.5]], \n",
    "            'login':[['benign'], [0.01],[0.5]],\n",
    "            'sensitive_uri':[['privilege_escalation', 'benign'],[0.015, 0.015],[0.09, 0.11]],\n",
    "            'new_kernel_module':[['persistence', 'benign'],[0.005, 0.03],[0.07, 0.09]],\n",
    "           'dns_tunneling': [['benign', 'exfiltration'], [0.08, 0.004],[0.16, 0.18]]\n",
    "           }\n",
    "\n",
    "full_sequence = [['S1','scan'],\n",
    "       ['S2', 'login'],\n",
    "       ['S3','sensitive_uri'],\n",
    "       ['S4','sensitive_uri'],\n",
    "       ['S5','sensitive_uri'],\n",
    "       ['S6','new_kernel_module'],\n",
    "       ['S7','dns_tunneling'],\n",
    "       ['S8','dns_tunneling'],\n",
    "       ['S9','dns_tunneling']]"
   ]
  },
  {
   "cell_type": "code",
   "execution_count": null,
   "metadata": {
    "colab": {},
    "colab_type": "code",
    "id": "AdmTBlrruCAU"
   },
   "outputs": [],
   "source": [
    "m = FactorGraph([('S1', 11),('S2', 11),('S3', 11),('S4', 11),('S5', 11),('S6', 11),('S7', 11),('S8', 11),('S9', 11)])"
   ]
  },
  {
   "cell_type": "code",
   "execution_count": null,
   "metadata": {
    "colab": {},
    "colab_type": "code",
    "id": "kMATaMSauCAb"
   },
   "outputs": [],
   "source": [
    "\"\"\"\n",
    "Build your general model below.\n",
    "Run your inference for t=1 through t=9\n",
    "\"\"\"\n",
    "#full_sequence = ['scan', 'login', 'sensitive_uri', 'sensitive_uri', 'sensitive_uri',\n",
    "#                 'new_kernel_module', 'dns_tunneling', 'dns_tunneling', 'dns_tunneling']\n",
    "\n",
    "for seq in full_sequence:\n",
    "    if seq[0] == 'S6':\n",
    "        m.add_factor_function(seq[0], get_prob(Dictionary[seq[1]][0], Dictionary[seq[1]][1], Dictionary[seq[1]][2])+get_prob(['persistence'],[0.006],[0.15]))\n",
    "    elif seq[0] == 'S5':\n",
    "        m.add_factor_function(seq[0], get_prob(Dictionary[seq[1]][0], Dictionary[seq[1]][1], Dictionary[seq[1]][2])+get_prob(['privilege_escalation'],[0.05],[0.15]))\n",
    "    else:\n",
    "        m.add_factor_function(seq[0], get_prob(Dictionary[seq[1]][0], Dictionary[seq[1]][1], Dictionary[seq[1]][2]))\n",
    "\n",
    "\n",
    "m.infer()\n",
    "argmax = m.get_argmax()\n",
    "\n",
    "marginals = []\n",
    "action_probabilities = []\n",
    "\n",
    "for seq in full_sequence:\n",
    "    marginals.append(m.get_marginals(seq[0]))\n",
    "    \n",
    "for seq in full_sequence:\n",
    "    idx = argmax[seq[0]]\n",
    "    action_probabilities.append([(k, stage_list[idx]) for k, stage_list in ACTIONS.items()])\n",
    "\n",
    "\n",
    "\n",
    "#####################################################################\n",
    "# TODO: Provide the argmax action corresponding to the argmax stage #\n",
    "#####################################################################\n",
    "max_action = []\n",
    "\n",
    "for elem in action_probabilities:\n",
    "    max_action.append(elem[np.argmax([x[1] for x in elem])][0])\n",
    "\n",
    "    \n",
    "\n",
    "\n",
    "#max_action = action_probabilities[np.argmax([x[1] for x in action_probabilities])][0]\n"
   ]
  },
  {
   "cell_type": "markdown",
   "metadata": {
    "colab_type": "text",
    "id": "tYd2NE92uCAg"
   },
   "source": [
    "# TASK 3.2"
   ]
  },
  {
   "cell_type": "markdown",
   "metadata": {
    "colab_type": "text",
    "id": "n61qDTfmuCAi"
   },
   "source": [
    "**Marginal probabilities are:**"
   ]
  },
  {
   "cell_type": "code",
   "execution_count": null,
   "metadata": {
    "colab": {},
    "colab_type": "code",
    "id": "gg3eP3SDuCAj",
    "outputId": "80c56e3a-d089-43ea-d4fa-433d7eb89c6c"
   },
   "outputs": [],
   "source": [
    "for p in marginals:\n",
    "    print(p)"
   ]
  },
  {
   "cell_type": "code",
   "execution_count": null,
   "metadata": {
    "colab": {},
    "colab_type": "code",
    "id": "V1DK2rX7uCAt"
   },
   "outputs": [],
   "source": [
    "inv_map = {v: k for k, v in ATTACK_STATES_MAP.iteritems()}"
   ]
  },
  {
   "cell_type": "markdown",
   "metadata": {
    "colab_type": "text",
    "id": "7xVp2WkyuCAy"
   },
   "source": [
    "**The corresponding most probable states are:**"
   ]
  },
  {
   "cell_type": "code",
   "execution_count": null,
   "metadata": {
    "colab": {},
    "colab_type": "code",
    "id": "2tRXarn7uCAy",
    "outputId": "fa6b516f-2ca7-4265-c289-6d4637d883a5"
   },
   "outputs": [],
   "source": [
    "for p in marginals:\n",
    "    print(inv_map[np.argmax(p.values())+1])"
   ]
  },
  {
   "cell_type": "markdown",
   "metadata": {
    "colab_type": "text",
    "id": "KUHbH2y_uCA1"
   },
   "source": [
    "# TASK 3.3"
   ]
  },
  {
   "cell_type": "markdown",
   "metadata": {
    "colab_type": "text",
    "id": "f0k_c1lxuCA1"
   },
   "source": [
    "**We take the argmax to recommend an action for each step. We arrived at this decision as we had an array of probabilities, and wanted to choose the action which would have the maximum probability**"
   ]
  },
  {
   "cell_type": "code",
   "execution_count": null,
   "metadata": {
    "colab": {},
    "colab_type": "code",
    "id": "rkn6P9LwuCA2",
    "outputId": "fcd615f4-4d38-4aca-b995-acc1b5e13659"
   },
   "outputs": [],
   "source": [
    "print('actions after argmax are:', max_action)"
   ]
  },
  {
   "cell_type": "markdown",
   "metadata": {
    "colab_type": "text",
    "id": "J9w1b0GjuCA5"
   },
   "source": [
    "# TASK 3.4"
   ]
  },
  {
   "cell_type": "markdown",
   "metadata": {
    "colab_type": "text",
    "id": "LI1I42_4uCA5"
   },
   "source": [
    "**The earliest stage  at which the model recommends the 'STOP' action is at S7**"
   ]
  },
  {
   "cell_type": "markdown",
   "metadata": {
    "colab_type": "text",
    "id": "Bbvj7DEQuCA6"
   },
   "source": [
    "# TASK 3.5"
   ]
  },
  {
   "cell_type": "markdown",
   "metadata": {
    "colab_type": "text",
    "id": "j_3Z0fzluCA8"
   },
   "source": [
    "**NEW FACTOR GRAPH AS FOLLOWS**"
   ]
  },
  {
   "cell_type": "code",
   "execution_count": null,
   "metadata": {
    "colab": {},
    "colab_type": "code",
    "id": "KvYHCH5UuCA8"
   },
   "outputs": [],
   "source": [
    "full_sequence2 = [['S1','scan'],\n",
    "       ['S2', 'login'],\n",
    "       ['S3','sensitive_uri'],\n",
    "       ['S4','sensitive_uri'],\n",
    "       ['S5','sensitive_uri'],\n",
    "       ['S6','new_kernel_module'],\n",
    "       ['S8','dns_tunneling'],\n",
    "       ['S9','dns_tunneling']]\n",
    "\n",
    "g = FactorGraph([('S1', 11),('S2', 11),('S3', 11),('S4', 11),('S5', 11),('S6', 11),('S8', 11),('S9', 11)])"
   ]
  },
  {
   "cell_type": "code",
   "execution_count": null,
   "metadata": {
    "colab": {},
    "colab_type": "code",
    "id": "HZnBDPW9uCA-",
    "outputId": "b9d93234-793d-4bb6-cf64-484502e4d752"
   },
   "outputs": [],
   "source": [
    "\"\"\"\n",
    "Build your general model below.\n",
    "Run your inference for t=1 through t=9\n",
    "\"\"\"\n",
    "#full_sequence = ['scan', 'login', 'sensitive_uri', 'sensitive_uri', 'sensitive_uri',\n",
    "#                 'new_kernel_module', 'dns_tunneling', 'dns_tunneling', 'dns_tunneling']\n",
    "\n",
    "for seq in full_sequence2:\n",
    "    if seq[0] == 'S6':\n",
    "        #print('got')\n",
    "        g.add_factor_function(seq[0], get_prob(Dictionary[seq[1]][0], Dictionary[seq[1]][1], Dictionary[seq[1]][2])+get_prob(['persistence'],[0.006],[0.15]))\n",
    "    elif seq[0] == 'S5':\n",
    "        g.add_factor_function(seq[0], get_prob(Dictionary[seq[1]][0], Dictionary[seq[1]][1], Dictionary[seq[1]][2])+get_prob(['privilege_escalation'],[0.05],[0.15]))\n",
    "    else:\n",
    "        g.add_factor_function(seq[0], get_prob(Dictionary[seq[1]][0], Dictionary[seq[1]][1], Dictionary[seq[1]][2]))\n",
    "\n",
    "\n",
    "g.infer()\n",
    "argmax = g.get_argmax()\n",
    "\n",
    "marginals = []\n",
    "action_probabilities = []\n",
    "\n",
    "for seq in full_sequence2:\n",
    "    marginals.append(g.get_marginals(seq[0]))\n",
    "    \n",
    "for seq in full_sequence2:\n",
    "    idx = argmax[seq[0]]\n",
    "    action_probabilities.append([(k, stage_list[idx]) for k, stage_list in ACTIONS.items()])\n",
    "\n",
    "\n",
    "\n",
    "#####################################################################\n",
    "# TODO: Provide the argmax action corresponding to the argmax stage #\n",
    "#####################################################################\n",
    "max_action = []\n",
    "\n",
    "for elem in action_probabilities:\n",
    "    max_action.append(elem[np.argmax([x[1] for x in elem])][0])\n",
    "\n",
    "    \n",
    "print(max_action)\n",
    "#max_action = action_probabilities[np.argmax([x[1] for x in action_probabilities])][0]\n"
   ]
  },
  {
   "cell_type": "code",
   "execution_count": null,
   "metadata": {
    "colab": {},
    "colab_type": "code",
    "id": "zCOhP99NuCBB",
    "outputId": "75b014ad-7e7c-4ed7-d62f-e2a305bbe673"
   },
   "outputs": [],
   "source": [
    "for d in marginals:\n",
    "    print(d)"
   ]
  },
  {
   "cell_type": "markdown",
   "metadata": {
    "colab_type": "text",
    "id": "8jcmkWhQuCBF"
   },
   "source": [
    "**The marginals stay the same as removing e7 and s7 does not affect any other state as there is no factor function connecting it to any other one**"
   ]
  },
  {
   "cell_type": "markdown",
   "metadata": {
    "colab_type": "text",
    "id": "u3Mo0wmMuCBF"
   },
   "source": [
    "# TASK 3.6"
   ]
  },
  {
   "cell_type": "markdown",
   "metadata": {
    "colab_type": "text",
    "id": "MeJqlLbOuCBH"
   },
   "source": [
    "**HMM model in pdf**"
   ]
  },
  {
   "cell_type": "markdown",
   "metadata": {
    "colab_type": "text",
    "id": "RoS2CafYuCBH"
   },
   "source": [
    "**The parameters needed for the HMM model are:Transition state matrix, Emission state matrix, Initial probabilities**"
   ]
  },
  {
   "cell_type": "markdown",
   "metadata": {
    "colab_type": "text",
    "id": "2r2rGrq2uCBJ"
   },
   "source": [
    "**One advantage of Factor graphs over the HMM is that it is more general, i.e., HMM has the markov assumption considering that the future state only depends on the present state. There is no such assumption in Factor graphs and we can have factor functions for modelling any number of dependencies**"
   ]
  },
  {
   "cell_type": "markdown",
   "metadata": {
    "colab_type": "text",
    "id": "zK_On0-muCBK"
   },
   "source": [
    "# TASK 4.0"
   ]
  },
  {
   "cell_type": "markdown",
   "metadata": {
    "colab_type": "text",
    "id": "biTVXHvVuCBL"
   },
   "source": [
    "**It is not possible to this attack using only one event as we need the whole sequence of events**"
   ]
  },
  {
   "cell_type": "markdown",
   "metadata": {
    "colab_type": "text",
    "id": "e3Elem1MuCBN"
   },
   "source": [
    "**Scan: If we get the probability of Discovery higher than Benign but it's a legitimate user\n",
    "<br>\n",
    "Login: Cannot get a false positive as there is no other state\n",
    "<br>\n",
    "Sensitive URI:  If we get the probability of privilege escalation higher than Benign but it's a legitimate user\n",
    "<br>\n",
    "New Executable File: If we get the probability of persistence higher than Benign but it's a legitimate user\n",
    "<br>\n",
    "Homepage overwritten with a new link: If we predict command and control or execution but it's Benign and a legitimate user\n",
    "<br>\n",
    "Webserver restarted: If we predict command and control or execution but it's Benign and a legitimate user**"
   ]
  },
  {
   "cell_type": "markdown",
   "metadata": {
    "colab_type": "text",
    "id": "NshYrzuXuCBP"
   },
   "source": [
    "# TASK 4.1"
   ]
  },
  {
   "cell_type": "markdown",
   "metadata": {
    "colab_type": "text",
    "id": "SgpHsWJSuCBQ"
   },
   "source": [
    "**Visual representation in pdf**"
   ]
  },
  {
   "cell_type": "markdown",
   "metadata": {
    "colab_type": "text",
    "id": "OpFK7vL2uCBR"
   },
   "source": [
    "# TASK 4.2"
   ]
  },
  {
   "cell_type": "markdown",
   "metadata": {
    "colab_type": "text",
    "id": "uw7lDJRVuCBR"
   },
   "source": [
    "**The variables Scan, Login and Sensitive URI and the corresponding factor functions (f1, f2, f3, f4, f5 and r) are the same as the previous factor graph**"
   ]
  },
  {
   "cell_type": "code",
   "execution_count": null,
   "metadata": {
    "colab": {},
    "colab_type": "code",
    "id": "yywugcOSuCBS"
   },
   "outputs": [],
   "source": []
  }
 ],
 "metadata": {
  "colab": {
   "collapsed_sections": [],
   "name": "MP3_Final.ipynb",
   "provenance": [],
   "version": "0.3.2"
  },
  "kernelspec": {
   "display_name": "Python 3",
   "language": "python",
   "name": "python3"
  },
  "language_info": {
   "codemirror_mode": {
    "name": "ipython",
    "version": 3
   },
   "file_extension": ".py",
   "mimetype": "text/x-python",
   "name": "python",
   "nbconvert_exporter": "python",
   "pygments_lexer": "ipython3",
   "version": "3.7.1"
  }
 },
 "nbformat": 4,
 "nbformat_minor": 1
}
