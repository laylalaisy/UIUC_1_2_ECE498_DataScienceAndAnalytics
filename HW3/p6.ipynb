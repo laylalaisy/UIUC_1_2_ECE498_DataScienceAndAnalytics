{
 "cells": [
  {
   "cell_type": "code",
   "execution_count": 1,
   "metadata": {},
   "outputs": [
    {
     "name": "stdout",
     "output_type": "stream",
     "text": [
      "[0.88167215 0.47186251]\n",
      "12\n"
     ]
    }
   ],
   "source": [
    "#!/usr/bin/python\n",
    "\n",
    "import numpy as np\n",
    "import scipy.spatial\n",
    "\n",
    "def power_iteration(b_k, A):\n",
    "    # Ideally choose a random vector\n",
    "    # To decrease the chance that our vector\n",
    "    # Is orthogonal to the eigenvector\n",
    "    # b_k = np.random.rand(A.shape[1])\n",
    "    count = 0\n",
    "    b_ks = []\n",
    "    \n",
    "    while(True):\n",
    "        count += 1\n",
    "        \n",
    "        # calculate the matrix-by-vector product Ab\n",
    "        b_k1 = np.dot(A, b_k)\n",
    "\n",
    "        # calculate the norm\n",
    "        b_k1_norm = np.linalg.norm(b_k1)\n",
    "\n",
    "        # re normalize the vector\n",
    "        b_k1 = b_k1 / b_k1_norm\n",
    "        \n",
    "        if(scipy.spatial.distance.euclidean(b_k, b_k1) < 0.00001):\n",
    "            b_k = b_k1\n",
    "            break\n",
    "        else:\n",
    "            b_ks.append(b_k1)\n",
    "            b_k = b_k1\n",
    "\n",
    "    return b_k, count, b_ks\n",
    "\n",
    "b_k, count, b_ks = power_iteration(np.array([3, 5]), np.array([[10, 3], [3, 6]]))\n",
    "\n",
    "print(b_k)\n",
    "print(count)\n"
   ]
  },
  {
   "cell_type": "code",
   "execution_count": 3,
   "metadata": {},
   "outputs": [
    {
     "data": {
      "image/png": "[encoded data removed]",
      "text/plain": [
       "<Figure size 432x288 with 1 Axes>"
      ]
     },
     "metadata": {
      "needs_background": "light"
     },
     "output_type": "display_data"
    }
   ],
   "source": [
    "import numpy as np\n",
    "import matplotlib.pyplot as plt\n",
    "M = np.array(b_ks)\n",
    "\n",
    "rows,cols = M.T.shape\n",
    "\n",
    "#Get absolute maxes for axis ranges to center origin\n",
    "#This is optional\n",
    "maxes = 1.1*np.amax(abs(M), axis = 0)\n",
    "\n",
    "for i,l in enumerate(range(0,cols)):\n",
    "    xs = [0,M[i,0]]\n",
    "    ys = [0,M[i,1]]\n",
    "    plt.plot(xs,ys)\n",
    "\n",
    "plt.plot(0,0,'ok') #<-- plot a black point at the origin\n",
    "plt.axis('equal')  #<-- set the axes to the same scale\n",
    "plt.xlim([-maxes[0],maxes[0]]) #<-- set the x axis limits\n",
    "plt.ylim([-maxes[1],maxes[1]]) #<-- set the y axis limits\n",
    "plt.legend(['V'+str(i+1) for i in range(cols)]) #<-- give a legend\n",
    "plt.grid(b=True, which='major') #<-- plot grid lines\n",
    "plt.show()\n"
   ]
  },
  {
   "cell_type": "code",
   "execution_count": null,
   "metadata": {},
   "outputs": [],
   "source": []
  }
 ],
 "metadata": {
  "kernelspec": {
   "display_name": "Python 3",
   "language": "python",
   "name": "python3"
  },
  "language_info": {
   "codemirror_mode": {
    "name": "ipython",
    "version": 3
   },
   "file_extension": ".py",
   "mimetype": "text/x-python",
   "name": "python",
   "nbconvert_exporter": "python",
   "pygments_lexer": "ipython3",
   "version": "3.7.1"
  }
 },
 "nbformat": 4,
 "nbformat_minor": 2
}
