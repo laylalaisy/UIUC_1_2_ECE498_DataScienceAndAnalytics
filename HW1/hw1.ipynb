{
 "cells": [
  {
   "cell_type": "code",
   "execution_count": 1,
   "metadata": {},
   "outputs": [],
   "source": [
    "NetID = \"\""
   ]
  },
  {
   "cell_type": "markdown",
   "metadata": {},
   "source": [
    "Name: Shuyue Lai\n",
    "Status: Registered"
   ]
  },
  {
   "cell_type": "markdown",
   "metadata": {},
   "source": [
    "# Part A: Parsing"
   ]
  },
  {
   "cell_type": "code",
   "execution_count": 2,
   "metadata": {},
   "outputs": [],
   "source": [
    "# read in pf.log\n",
    "with open('pf.log', 'r' ) as f:\n",
    "    lines = f.readlines()\n",
    "\n",
    "# strip all lines of whitespace\n",
    "lines = [line.strip() for line in lines]     \n",
    "# for line in lines:\n",
    "#     print(line)"
   ]
  },
  {
   "cell_type": "code",
   "execution_count": 3,
   "metadata": {},
   "outputs": [],
   "source": [
    "# parse each line into your data structure\n",
    "# remember to convert addresses from strings to integers\n",
    "index = 0    # index of csv\n",
    "i = 0        # index of line\n",
    "length = len(lines)    # length of input\n",
    "\n",
    "outputs = []\n",
    "    \n",
    "while(i != length):\n",
    "    value1 = lines[i].split(':')    # 1506816069251:firefox:13179:0x282235aae:R:minor:50\n",
    "    # print(value1)\n",
    "    i = i + 1\n",
    "    index = index + 1\n",
    "    while(i != length and lines[i][0] == '<'):     # </usr/lib/x86_64-linux-gnu/libcairo.so.2.11400.10+0xa7b5f/0xff3f00>\n",
    "        value2 = lines[i].split('+')\n",
    "        lib = value2[0].strip('<')\n",
    "        value3 = value2[1].split('/')\n",
    "        offset = int(value3[0], 16)\n",
    "        addr = int(value3[1].strip('>'), 16)\n",
    "        result = '\\t'.join([str(index), value1[0], value1[1], value1[2], str(int(value1[3], 16)), value1[4], value1[5], value1[6], lib, str(addr), str(offset)])\n",
    "        # print(result)          \n",
    "        i = i + 1\n",
    "        outputs.append(result)"
   ]
  },
  {
   "cell_type": "code",
   "execution_count": 4,
   "metadata": {},
   "outputs": [],
   "source": [
    "# write your data structure out to pf.csv\n",
    "# include an index column with unique indices for each page fault\n",
    "with open('pf.csv', 'w') as f:\n",
    "    # write header line\n",
    "    f.write('\\t'.join(['index', 'time', 'proc_name', 'pid', 'pfaddr', 'rw', 'major_minor', 'resolve_time', 'lib', 'addr', 'offset']))\n",
    "    f.write('\\n')\n",
    "    \n",
    "    # write each page fault & backtrace entry\n",
    "    # hint: take a look at python's enumerate() function to generate indices\n",
    "    # Remember that indices should be unique to each page fault\n",
    "    for output in outputs:\n",
    "        f.write(output)\n",
    "        f.write('\\n')"
   ]
  },
  {
   "cell_type": "markdown",
   "metadata": {},
   "source": [
    "# Part B: Analysis"
   ]
  },
  {
   "cell_type": "code",
   "execution_count": 5,
   "metadata": {},
   "outputs": [],
   "source": [
    "import pandas as pd\n",
    "import numpy as np\n",
    "import matplotlib.mlab as mlab\n",
    "import matplotlib.pyplot as plt"
   ]
  },
  {
   "cell_type": "code",
   "execution_count": 6,
   "metadata": {},
   "outputs": [],
   "source": [
    "# relevant options when reading in pf.csv: sep, parse_dates\n",
    "df = pd.read_csv('pf.csv', sep = '\\t', parse_dates = ['time'])\n",
    "# df['time'] = pd.to_datetime(df['time'])\n",
    "\n",
    "# set the index of the data frame\n",
    "df.set_index(df['index'], inplace=True)"
   ]
  },
  {
   "cell_type": "markdown",
   "metadata": {},
   "source": [
    "### a. \n",
    "What time range does this data cover?"
   ]
  },
  {
   "cell_type": "code",
   "execution_count": 7,
   "metadata": {},
   "outputs": [
    {
     "name": "stdout",
     "output_type": "stream",
     "text": [
      "start date: 2017-10-01 00:01:09.251000\n",
      "end date: 2018-01-07 18:59:50.839000\n",
      "time range: 98 days 18:58:41.588000\n"
     ]
    }
   ],
   "source": [
    "min_time = pd.to_datetime(df['time'], unit='ms').min()\n",
    "max_time = pd.to_datetime(df['time'], unit='ms').max()\n",
    "range_time = max_time - min_time\n",
    "print(\"start date:\", min_time)\n",
    "print(\"end date:\", max_time)\n",
    "print(\"time range:\", range_time)"
   ]
  },
  {
   "cell_type": "markdown",
   "metadata": {},
   "source": [
    "### b. \n",
    "How many unique processes were executed over this period? How many times was each process executed?"
   ]
  },
  {
   "cell_type": "code",
   "execution_count": 8,
   "metadata": {
    "scrolled": true
   },
   "outputs": [
    {
     "name": "stdout",
     "output_type": "stream",
     "text": [
      "12\n",
      "auditd 57185\n",
      "bash 57427\n",
      "firefox 58289\n",
      "gitlab-runner 54543\n",
      "google-chrome 59596\n",
      "htop 58304\n",
      "sshd 61721\n",
      "subl 61746\n",
      "thunderbird 59393\n",
      "tmux 54661\n",
      "watchdog 58839\n",
      "xorg 61072\n"
     ]
    }
   ],
   "source": [
    "proc_name = set(df['proc_name'])\n",
    "print(len(proc_name))\n",
    "\n",
    "counter = df['index'].groupby(df['proc_name']).unique()\n",
    "for i in range(len(counter)):\n",
    "    print(counter.index[i], len(counter[i]))"
   ]
  },
  {
   "cell_type": "markdown",
   "metadata": {},
   "source": [
    "### c. \n",
    "Compare the number of major & minor page faults for each process (averaged over all runs). Plot a bar chart with two categories ‑ major &\n",
    "minor, to demonstrate your results."
   ]
  },
  {
   "cell_type": "code",
   "execution_count": 9,
   "metadata": {
    "scrolled": true
   },
   "outputs": [
    {
     "name": "stdout",
     "output_type": "stream",
     "text": [
      "auditd major 5701\n",
      "auditd minor 51484\n",
      "bash major 5713\n",
      "bash minor 51714\n",
      "firefox major 5991\n",
      "firefox minor 52298\n",
      "gitlab-runner major 5291\n",
      "gitlab-runner minor 49252\n",
      "google-chrome major 5938\n",
      "google-chrome minor 53658\n",
      "htop major 5902\n",
      "htop minor 52402\n",
      "sshd major 6089\n",
      "sshd minor 55632\n",
      "subl major 6129\n",
      "subl minor 55617\n",
      "thunderbird major 5857\n",
      "thunderbird minor 53536\n",
      "tmux major 5478\n",
      "tmux minor 49183\n",
      "watchdog major 5872\n",
      "watchdog minor 52967\n",
      "xorg major 6078\n",
      "xorg minor 54994\n"
     ]
    },
    {
     "data": {
      "image/png": "[encoded data removed]",
      "text/plain": [
       "<Figure size 432x288 with 1 Axes>"
      ]
     },
     "metadata": {},
     "output_type": "display_data"
    }
   ],
   "source": [
    "process = df['index'].groupby([df['proc_name'], df['major_minor']]).unique()\n",
    "\n",
    "list_process_name = []\n",
    "major_val = []\n",
    "minor_val = []\n",
    "\n",
    "for i in range(len(process)):\n",
    "    cur_process_name = process.index[i][0]\n",
    "    cur_name = process.index[i][1]\n",
    "    cur_val = len(process[i])\n",
    "    print(cur_process_name, cur_name, cur_val)\n",
    "    if cur_name == 'major':\n",
    "        list_process_name.append(cur_process_name)\n",
    "        major_val.append(cur_val)\n",
    "    else:\n",
    "        minor_val.append(cur_val)\n",
    "\n",
    "fig, ax = plt.subplots()\n",
    "n_groups = len(list_process_name)\n",
    "index = np.arange(n_groups)\n",
    "bar_width = 0.4\n",
    "opacity = 0.4\n",
    "\n",
    "rects1 = ax.bar(index, major_val, bar_width,\n",
    "                alpha=opacity, color='b',\n",
    "                label='Major')\n",
    "rects2 = ax.bar(index + bar_width, minor_val, bar_width,\n",
    "                alpha=opacity, color='r',\n",
    "                label='Minor')\n",
    "\n",
    "ax.set_xlabel('proc_name')\n",
    "ax.set_ylabel('times')\n",
    "ax.set_title('the number of major & minor page faults for each process')\n",
    "ax.set_xticks(index + bar_width/2)\n",
    "ax.set_xticklabels(list_process_name)\n",
    "ax.legend()\n",
    "\n",
    "fig.tight_layout()\n",
    "plt.xticks(fontsize = 7)\n",
    "plt.show()"
   ]
  },
  {
   "cell_type": "markdown",
   "metadata": {},
   "source": [
    "### d. \n",
    "Plot the histogram for the time to resolve page faults. Label the axes. For each process, report the mean and standard deviation of the time\n",
    "to resolve page faults. Plotting and calculations should be done for major and minor page faults separately."
   ]
  },
  {
   "cell_type": "code",
   "execution_count": 10,
   "metadata": {
    "scrolled": true
   },
   "outputs": [
    {
     "data": {
      "image/png": "[encoded data removed]",
      "text/plain": [
       "<Figure size 432x288 with 1 Axes>"
      ]
     },
     "metadata": {},
     "output_type": "display_data"
    },
    {
     "data": {
      "image/png": "[encoded data removed]",
      "text/plain": [
       "<Figure size 432x288 with 1 Axes>"
      ]
     },
     "metadata": {},
     "output_type": "display_data"
    }
   ],
   "source": [
    "df_index_unique = df.groupby(df['index']).head(1)\n",
    "major_hist = list(df_index_unique[df_index_unique['major_minor'] == 'major']['resolve_time'])\n",
    "minor_hist = list(df_index_unique[df_index_unique['major_minor'] == 'minor']['resolve_time'])\n",
    "\n",
    "plt.hist(major_hist, bins='auto')\n",
    "plt.ylabel('number')\n",
    "plt.xlabel('resolve time')\n",
    "plt.title('Histogram For Major Faults')\n",
    "plt.show()\n",
    "\n",
    "plt.hist(minor_hist, bins='auto')\n",
    "plt.ylabel('number')\n",
    "plt.xlabel('resolve time')\n",
    "plt.title('Histogram For Minor Faults')\n",
    "plt.show()"
   ]
  },
  {
   "cell_type": "code",
   "execution_count": 12,
   "metadata": {
    "scrolled": true
   },
   "outputs": [
    {
     "name": "stdout",
     "output_type": "stream",
     "text": [
      "auditd major mean: 217.74495702508332 std: 105.35906622785735\n",
      "auditd minor mean: 27.52037526221739 std: 13.286257258669712\n",
      "bash major mean: 217.9333099947488 std: 105.21799066066299\n",
      "bash minor mean: 27.441137796341415 std: 13.27484236956508\n",
      "firefox major mean: 220.67785010849607 std: 104.52043936727114\n",
      "firefox minor mean: 27.571360281463917 std: 13.276757678780305\n",
      "gitlab-runner major mean: 213.84048384048384 std: 106.11060977256928\n",
      "gitlab-runner minor mean: 27.37474620319987 std: 13.26370137953019\n",
      "google-chrome major mean: 218.56416301785112 std: 104.98036266868435\n",
      "google-chrome minor mean: 27.508144172350814 std: 13.230825904103908\n",
      "htop major mean: 218.407319552694 std: 104.72779963102408\n",
      "htop minor mean: 27.42723560169459 std: 13.277470988175734\n",
      "sshd major mean: 216.40532107078337 std: 105.3689123905007\n",
      "sshd minor mean: 27.506794650560828 std: 13.299933666952612\n",
      "subl major mean: 215.4346549192364 std: 105.69754011721432\n",
      "subl minor mean: 27.445493284427425 std: 13.255274351430309\n",
      "thunderbird major mean: 220.43844971828582 std: 107.00165023266837\n",
      "thunderbird minor mean: 27.487018081291094 std: 13.252947868596987\n",
      "tmux major mean: 218.88298649142024 std: 105.85161912756197\n",
      "tmux minor mean: 27.447288697314114 std: 13.27651808931501\n",
      "watchdog major mean: 217.2808242506812 std: 105.42146631340314\n",
      "watchdog minor mean: 27.599203277512412 std: 13.269930245395235\n",
      "xorg major mean: 217.52352747614347 std: 105.73048449828167\n",
      "xorg minor mean: 27.534931083390916 std: 13.278452551205989\n"
     ]
    },
    {
     "data": {
      "image/png": "[encoded data removed]",
      "text/plain": [
       "<Figure size 432x288 with 1 Axes>"
      ]
     },
     "metadata": {},
     "output_type": "display_data"
    },
    {
     "data": {
      "image/png": "[encoded data removed]",
      "text/plain": [
       "<Figure size 432x288 with 1 Axes>"
      ]
     },
     "metadata": {},
     "output_type": "display_data"
    },
    {
     "data": {
      "image/png": "[encoded data removed]",
      "text/plain": [
       "<Figure size 432x288 with 1 Axes>"
      ]
     },
     "metadata": {},
     "output_type": "display_data"
    }
   ],
   "source": [
    "resolve_time = df['index'].groupby([df['proc_name'], df['major_minor']]).unique()\n",
    "\n",
    "list_process_name = []\n",
    "major_mean = []\n",
    "major_std = []\n",
    "minor_mean = []\n",
    "minor_std = []\n",
    "\n",
    "for i in range(len(resolve_time)):\n",
    "    cur_process_name = resolve_time.index[i][0]\n",
    "    cur_name = resolve_time.index[i][1]\n",
    "    cur_mean = df_index_unique[(df_index_unique['index'].isin(list(resolve_time[i])))]['resolve_time'].mean()\n",
    "    cur_std = df_index_unique[(df_index_unique['index'].isin(list(resolve_time[i])))]['resolve_time'].std()\n",
    "    print(cur_process_name, cur_name, \"mean:\", cur_mean, \"std:\", cur_std)\n",
    "    if cur_name == 'major':\n",
    "        list_process_name.append(cur_process_name)\n",
    "        major_mean.append(cur_mean)\n",
    "        major_std.append(cur_std)\n",
    "    else:\n",
    "        minor_mean.append(cur_mean)\n",
    "        minor_std.append(cur_std)\n",
    "\n",
    "fig, ax = plt.subplots()\n",
    "n_groups = len(list_process_name)\n",
    "index = np.arange(n_groups)\n",
    "bar_width = 0.4\n",
    "opacity = 0.4\n",
    "\n",
    "rects1 = ax.bar(index, major_mean, bar_width,\n",
    "                alpha=opacity, color='b',\n",
    "                label='Major Mean')\n",
    "rects2 = ax.bar(index + bar_width, minor_mean, bar_width,\n",
    "                alpha=opacity, color='r',\n",
    "                label='Minor Mean')\n",
    "\n",
    "ax.set_xlabel('proc_name')\n",
    "ax.set_ylabel('mean')\n",
    "ax.set_title('mean of the time to resolve page faults')\n",
    "ax.set_xticks(index + bar_width/2)\n",
    "ax.set_xticklabels(list_process_name)\n",
    "ax.legend()\n",
    "\n",
    "fig.tight_layout()\n",
    "plt.xticks(fontsize = 7)\n",
    "plt.show()\n",
    "\n",
    "fig, ax = plt.subplots()\n",
    "n_groups = len(list_process_name)\n",
    "index = np.arange(n_groups)\n",
    "bar_width = 0.4\n",
    "opacity = 0.4\n",
    "\n",
    "rects1 = ax.bar(index, major_std, bar_width,\n",
    "                alpha=opacity, color='b',\n",
    "                label='Major Std')\n",
    "rects2 = ax.bar(index + bar_width, minor_std, bar_width,\n",
    "                alpha=opacity, color='r',\n",
    "                label='Minor Std')\n",
    "\n",
    "ax.set_xlabel('proc_name')\n",
    "ax.set_ylabel('std')\n",
    "ax.set_title('standard deviation of the time to resolve page faults')\n",
    "ax.set_xticks(index + bar_width/2)\n",
    "ax.set_xticklabels(list_process_name)\n",
    "ax.legend()\n",
    "\n",
    "fig.tight_layout()\n",
    "plt.xticks(fontsize = 7)\n",
    "plt.show()\n",
    "\n",
    "\n"
   ]
  },
  {
   "cell_type": "code",
   "execution_count": null,
   "metadata": {},
   "outputs": [],
   "source": []
  }
 ],
 "metadata": {
  "kernelspec": {
   "display_name": "Python 3",
   "language": "python",
   "name": "python3"
  },
  "language_info": {
   "codemirror_mode": {
    "name": "ipython",
    "version": 3
   },
   "file_extension": ".py",
   "mimetype": "text/x-python",
   "name": "python",
   "nbconvert_exporter": "python",
   "pygments_lexer": "ipython3",
   "version": "3.6.5"
  }
 },
 "nbformat": 4,
 "nbformat_minor": 2
}
