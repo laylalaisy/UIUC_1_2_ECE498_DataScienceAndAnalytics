{
 "cells": [
  {
   "cell_type": "markdown",
   "metadata": {
    "colab_type": "text",
    "id": "bXQ_EMVbSAYH"
   },
   "source": [
    "# MP01: CS 498 DSG\n",
    "\n",
    "**Teammates:** \n",
    "\n",
    "Name: Qasim Nazir, NetId: qnazir2 </br>\n",
    "Name: Navjot Singh, NetId: navjot2 </br>\n",
    "Name: Shuyue Lai, NetId: shuyuel2"
   ]
  },
  {
   "cell_type": "markdown",
   "metadata": {
    "colab_type": "text",
    "id": "rILROQoXSAYK"
   },
   "source": [
    "# Task 0 – Getting to know the analysis environment"
   ]
  },
  {
   "cell_type": "markdown",
   "metadata": {
    "colab_type": "text",
    "id": "v-r1JqFySAYM"
   },
   "source": [
    "##  1. Import the data into Jupyter Notebook."
   ]
  },
  {
   "cell_type": "code",
   "execution_count": 240,
   "metadata": {
    "colab": {},
    "colab_type": "code",
    "id": "4LJtNriNV7Tr"
   },
   "outputs": [],
   "source": [
    "# import the required libraries\n",
    "import pandas as pd\n",
    "import numpy as np\n",
    "from datetime import datetime\n",
    "import matplotlib.pyplot as plt \n",
    "import seaborn as sns\n",
    "from scipy import stats"
   ]
  },
  {
   "cell_type": "code",
   "execution_count": 241,
   "metadata": {
    "colab": {},
    "colab_type": "code",
    "id": "4MgdBUFdSAYY"
   },
   "outputs": [],
   "source": [
    "# import the datasets\n",
    "diseng = pd.read_csv('mp1_av_disengagements.csv',sep=',') # disengagements\n",
    "t_miles = pd.read_csv('mp1_av_totalmiles.csv',sep=',')    # total miles"
   ]
  },
  {
   "cell_type": "code",
   "execution_count": 242,
   "metadata": {
    "colab": {},
    "colab_type": "code",
    "id": "uf6M2ktLW2vV"
   },
   "outputs": [],
   "source": [
    "diseng['Month']=pd.to_datetime(diseng['Month'],format='%y-%b')\n",
    "t_miles['Month']=pd.to_datetime(t_miles['Month'],format='%y-%b')"
   ]
  },
  {
   "cell_type": "code",
   "execution_count": 243,
   "metadata": {
    "colab": {
     "base_uri": "https://localhost:8080/",
     "height": 216
    },
    "colab_type": "code",
    "id": "ezkUd0NGSAYd",
    "outputId": "b4b4535d-94cf-445e-8316-0bd9e77aaf0b"
   },
   "outputs": [
    {
     "name": "stdout",
     "output_type": "stream",
     "text": [
      "(1024, 7)\n"
     ]
    },
    {
     "data": {
      "text/html": [
       "<div>\n",
       "<style scoped>\n",
       "    .dataframe tbody tr th:only-of-type {\n",
       "        vertical-align: middle;\n",
       "    }\n",
       "\n",
       "    .dataframe tbody tr th {\n",
       "        vertical-align: top;\n",
       "    }\n",
       "\n",
       "    .dataframe thead th {\n",
       "        text-align: right;\n",
       "    }\n",
       "</style>\n",
       "<table border=\"1\" class=\"dataframe\">\n",
       "  <thead>\n",
       "    <tr style=\"text-align: right;\">\n",
       "      <th></th>\n",
       "      <th>Month</th>\n",
       "      <th>Car</th>\n",
       "      <th>Location</th>\n",
       "      <th>Weather</th>\n",
       "      <th>TypeOfTrigger</th>\n",
       "      <th>ReactionTime</th>\n",
       "      <th>Cause</th>\n",
       "    </tr>\n",
       "  </thead>\n",
       "  <tbody>\n",
       "    <tr>\n",
       "      <th>0</th>\n",
       "      <td>2014-09-01</td>\n",
       "      <td>WDD2221851A001072</td>\n",
       "      <td>urban-street</td>\n",
       "      <td>cloudy</td>\n",
       "      <td>automatic</td>\n",
       "      <td>0.58</td>\n",
       "      <td>Incorrect Traffic Light Detection</td>\n",
       "    </tr>\n",
       "    <tr>\n",
       "      <th>1</th>\n",
       "      <td>2014-09-01</td>\n",
       "      <td>WDD2221851A001072</td>\n",
       "      <td>urban-street</td>\n",
       "      <td>cloudy</td>\n",
       "      <td>automatic</td>\n",
       "      <td>0.66</td>\n",
       "      <td>Adverse road surface conditions</td>\n",
       "    </tr>\n",
       "    <tr>\n",
       "      <th>2</th>\n",
       "      <td>2014-09-01</td>\n",
       "      <td>WDD2221851A001072</td>\n",
       "      <td>urban-street</td>\n",
       "      <td>cloudy</td>\n",
       "      <td>automatic</td>\n",
       "      <td>1.93</td>\n",
       "      <td>Position Estimation Failure</td>\n",
       "    </tr>\n",
       "    <tr>\n",
       "      <th>3</th>\n",
       "      <td>2014-09-01</td>\n",
       "      <td>WDD2221851A001072</td>\n",
       "      <td>urban-street</td>\n",
       "      <td>cloudy</td>\n",
       "      <td>automatic</td>\n",
       "      <td>0.65</td>\n",
       "      <td>Emergency Vehicle</td>\n",
       "    </tr>\n",
       "    <tr>\n",
       "      <th>4</th>\n",
       "      <td>2014-09-01</td>\n",
       "      <td>WDD2221851A001072</td>\n",
       "      <td>urban-street</td>\n",
       "      <td>cloudy</td>\n",
       "      <td>automatic</td>\n",
       "      <td>0.64</td>\n",
       "      <td>Adverse road surface conditions</td>\n",
       "    </tr>\n",
       "  </tbody>\n",
       "</table>\n",
       "</div>"
      ],
      "text/plain": [
       "       Month                ...                                              Cause\n",
       "0 2014-09-01                ...                  Incorrect Traffic Light Detection\n",
       "1 2014-09-01                ...                    Adverse road surface conditions\n",
       "2 2014-09-01                ...                        Position Estimation Failure\n",
       "3 2014-09-01                ...                                  Emergency Vehicle\n",
       "4 2014-09-01                ...                    Adverse road surface conditions\n",
       "\n",
       "[5 rows x 7 columns]"
      ]
     },
     "execution_count": 243,
     "metadata": {},
     "output_type": "execute_result"
    }
   ],
   "source": [
    "print(diseng.shape)\n",
    "diseng.head()"
   ]
  },
  {
   "cell_type": "code",
   "execution_count": 244,
   "metadata": {
    "colab": {
     "base_uri": "https://localhost:8080/",
     "height": 320
    },
    "colab_type": "code",
    "id": "ibi17TnMSAYn",
    "outputId": "ea0043e8-2a10-4ee4-9e64-9a52a4a6adf4"
   },
   "outputs": [
    {
     "name": "stdout",
     "output_type": "stream",
     "text": [
      "(17, 6)\n"
     ]
    },
    {
     "data": {
      "text/html": [
       "<div>\n",
       "<style scoped>\n",
       "    .dataframe tbody tr th:only-of-type {\n",
       "        vertical-align: middle;\n",
       "    }\n",
       "\n",
       "    .dataframe tbody tr th {\n",
       "        vertical-align: top;\n",
       "    }\n",
       "\n",
       "    .dataframe thead th {\n",
       "        text-align: right;\n",
       "    }\n",
       "</style>\n",
       "<table border=\"1\" class=\"dataframe\">\n",
       "  <thead>\n",
       "    <tr style=\"text-align: right;\">\n",
       "      <th></th>\n",
       "      <th>Month</th>\n",
       "      <th>Car</th>\n",
       "      <th>miles driven in autonomous mode</th>\n",
       "      <th>total number of disengagements</th>\n",
       "      <th>number of automatic disengagements</th>\n",
       "      <th>number of manual disengagements</th>\n",
       "    </tr>\n",
       "  </thead>\n",
       "  <tbody>\n",
       "    <tr>\n",
       "      <th>0</th>\n",
       "      <td>2014-09-01</td>\n",
       "      <td>WDD2221851A001072</td>\n",
       "      <td>4207</td>\n",
       "      <td>44</td>\n",
       "      <td>24</td>\n",
       "      <td>20</td>\n",
       "    </tr>\n",
       "    <tr>\n",
       "      <th>1</th>\n",
       "      <td>2014-10-01</td>\n",
       "      <td>WDD2221851A001072</td>\n",
       "      <td>23971</td>\n",
       "      <td>228</td>\n",
       "      <td>100</td>\n",
       "      <td>128</td>\n",
       "    </tr>\n",
       "    <tr>\n",
       "      <th>2</th>\n",
       "      <td>2014-11-01</td>\n",
       "      <td>WDD2221851A001072</td>\n",
       "      <td>15837</td>\n",
       "      <td>141</td>\n",
       "      <td>66</td>\n",
       "      <td>75</td>\n",
       "    </tr>\n",
       "    <tr>\n",
       "      <th>3</th>\n",
       "      <td>2014-12-01</td>\n",
       "      <td>WDD2221851A001072</td>\n",
       "      <td>9413</td>\n",
       "      <td>36</td>\n",
       "      <td>15</td>\n",
       "      <td>21</td>\n",
       "    </tr>\n",
       "    <tr>\n",
       "      <th>4</th>\n",
       "      <td>2015-01-01</td>\n",
       "      <td>WDD2221851A001072</td>\n",
       "      <td>18192</td>\n",
       "      <td>48</td>\n",
       "      <td>18</td>\n",
       "      <td>30</td>\n",
       "    </tr>\n",
       "  </tbody>\n",
       "</table>\n",
       "</div>"
      ],
      "text/plain": [
       "       Month               ...               number of manual disengagements\n",
       "0 2014-09-01               ...                                            20\n",
       "1 2014-10-01               ...                                           128\n",
       "2 2014-11-01               ...                                            75\n",
       "3 2014-12-01               ...                                            21\n",
       "4 2015-01-01               ...                                            30\n",
       "\n",
       "[5 rows x 6 columns]"
      ]
     },
     "execution_count": 244,
     "metadata": {},
     "output_type": "execute_result"
    }
   ],
   "source": [
    "print(t_miles.shape)\n",
    "t_miles.head()"
   ]
  },
  {
   "cell_type": "markdown",
   "metadata": {
    "colab_type": "text",
    "id": "d42dCQJ-SAY3"
   },
   "source": [
    "##  2. Summarize the following information"
   ]
  },
  {
   "cell_type": "markdown",
   "metadata": {
    "colab_type": "text",
    "id": "uZeDqQmHSAY4"
   },
   "source": [
    "### a. Total number of AV disengagements over the entire duration of available data"
   ]
  },
  {
   "cell_type": "code",
   "execution_count": 245,
   "metadata": {
    "colab": {
     "base_uri": "https://localhost:8080/",
     "height": 35
    },
    "colab_type": "code",
    "id": "SiSHuXbNSAY7",
    "outputId": "4d9792f3-3cc5-40c8-9273-ad60a373e959"
   },
   "outputs": [
    {
     "name": "stdout",
     "output_type": "stream",
     "text": [
      "1024\n"
     ]
    }
   ],
   "source": [
    "print(t_miles['total number of disengagements'].sum())"
   ]
  },
  {
   "cell_type": "markdown",
   "metadata": {
    "colab_type": "text",
    "id": "TYpCs696SAZC"
   },
   "source": [
    "### b. Number of unique months that have recorded AV disengagements"
   ]
  },
  {
   "cell_type": "code",
   "execution_count": 246,
   "metadata": {
    "colab": {
     "base_uri": "https://localhost:8080/",
     "height": 35
    },
    "colab_type": "code",
    "id": "IzCFK_rISAZF",
    "outputId": "92cda147-7dff-4db5-9e40-a33a2b22f453"
   },
   "outputs": [
    {
     "name": "stdout",
     "output_type": "stream",
     "text": [
      "15\n"
     ]
    }
   ],
   "source": [
    "unique_months = t_miles['Month'].unique()\n",
    "print(len(unique_months))"
   ]
  },
  {
   "cell_type": "markdown",
   "metadata": {
    "colab_type": "text",
    "id": "yN1kbbpOSAZN"
   },
   "source": [
    "### c. List of unique locations of AV disengagements"
   ]
  },
  {
   "cell_type": "code",
   "execution_count": 247,
   "metadata": {
    "colab": {
     "base_uri": "https://localhost:8080/",
     "height": 35
    },
    "colab_type": "code",
    "id": "aag7DTYqSAZP",
    "outputId": "bd1676c4-a8aa-4b7e-9ce5-42f045c6591a"
   },
   "outputs": [
    {
     "name": "stdout",
     "output_type": "stream",
     "text": [
      "['urban-street' 'highway']\n"
     ]
    }
   ],
   "source": [
    "unique_locations = diseng['Location'].unique()\n",
    "print(unique_locations)"
   ]
  },
  {
   "cell_type": "markdown",
   "metadata": {
    "colab_type": "text",
    "id": "f5gmHiCXSAZV"
   },
   "source": [
    "### d. Number of unique causes for AV disengagements"
   ]
  },
  {
   "cell_type": "code",
   "execution_count": 248,
   "metadata": {
    "colab": {
     "base_uri": "https://localhost:8080/",
     "height": 35
    },
    "colab_type": "code",
    "id": "Z0MsNMKISAZX",
    "outputId": "e5fb8efc-6340-4763-c05b-72b4fa738695"
   },
   "outputs": [
    {
     "name": "stdout",
     "output_type": "stream",
     "text": [
      "10\n"
     ]
    }
   ],
   "source": [
    "unique_cause= diseng['Cause'].unique()\n",
    "print(len(unique_cause))"
   ]
  },
  {
   "cell_type": "markdown",
   "metadata": {
    "colab_type": "text",
    "id": "1EP5IQ4FSAZe"
   },
   "source": [
    "### e. Number of missing values (NAs commonly occur in real world datasets)"
   ]
  },
  {
   "cell_type": "code",
   "execution_count": 249,
   "metadata": {
    "colab": {
     "base_uri": "https://localhost:8080/",
     "height": 35
    },
    "colab_type": "code",
    "id": "ppayGZxiW2wV",
    "outputId": "c6ee0628-4a33-4f4c-981e-f3cd9a016634"
   },
   "outputs": [
    {
     "data": {
      "text/plain": [
       "532"
      ]
     },
     "execution_count": 249,
     "metadata": {},
     "output_type": "execute_result"
    }
   ],
   "source": [
    "diseng['ReactionTime'].isnull().sum()"
   ]
  },
  {
   "cell_type": "markdown",
   "metadata": {
    "colab_type": "text",
    "id": "g-MFRaELSAZl"
   },
   "source": [
    "## 3. Plot a pie chart for the causes of AV disengagement. Based on the pie-chart, list the top 2 leading causes of disengagement?"
   ]
  },
  {
   "cell_type": "code",
   "execution_count": 250,
   "metadata": {},
   "outputs": [
    {
     "data": {
      "text/plain": [
       "Text(0.5, 1.0, 'Causes of Disengagement')"
      ]
     },
     "execution_count": 250,
     "metadata": {},
     "output_type": "execute_result"
    },
    {
     "data": {
      "image/png": "[encoded data removed]",
      "text/plain": [
       "<Figure size 432x288 with 1 Axes>"
      ]
     },
     "metadata": {},
     "output_type": "display_data"
    }
   ],
   "source": [
    "series =pd.Series(diseng['Cause'].values).value_counts()\n",
    "ax = series.plot(kind='pie',title= 'Causes',autopct='%1.2f%%')\n",
    "ax.set_ylabel('')\n",
    "ax.set_title('Causes of Disengagement')"
   ]
  },
  {
   "cell_type": "code",
   "execution_count": 251,
   "metadata": {
    "colab": {
     "base_uri": "https://localhost:8080/",
     "height": 54
    },
    "colab_type": "code",
    "id": "-U3PuvC0sPl8",
    "outputId": "5e8a922c-491b-4577-904f-430bd08bd37f"
   },
   "outputs": [
    {
     "name": "stdout",
     "output_type": "stream",
     "text": [
      "1st leading Cause of Disengagement: Unwanted Driver Discomfort\t Perecentage: 12.5%\n",
      "2nd leading Cause of Disengagement: Recklessly behaving agent\t Perecentage: 12.109375%\n"
     ]
    }
   ],
   "source": [
    "print(\"1st leading Cause of Disengagement: {0}\\t Perecentage: {1}%\".format(series.index[0],100*series[0]/sum(series)))\n",
    "print(\"2nd leading Cause of Disengagement: {0}\\t Perecentage: {1}%\".format(series.index[1],100*124/sum(sizes)))"
   ]
  },
  {
   "cell_type": "markdown",
   "metadata": {
    "colab_type": "text",
    "id": "cQxuTim3SAZr"
   },
   "source": [
    "## 4. Visualize the trend of disengagement/mile over time with monthly granularity. How would you describe the trend? Are AV’s maturing over time?"
   ]
  },
  {
   "cell_type": "code",
   "execution_count": 252,
   "metadata": {
    "colab": {
     "base_uri": "https://localhost:8080/",
     "height": 775
    },
    "colab_type": "code",
    "id": "DXfNHMTzW2wn",
    "outputId": "69544ee3-d331-4d6f-d1b8-8db23e4ea283"
   },
   "outputs": [],
   "source": [
    "trend = t_miles.groupby('Month').sum().reset_index()\n",
    "trend['disengagement per mile'] = trend['total number of disengagements']/trend['miles driven in autonomous mode']"
   ]
  },
  {
   "cell_type": "code",
   "execution_count": 253,
   "metadata": {
    "colab": {
     "base_uri": "https://localhost:8080/",
     "height": 467
    },
    "colab_type": "code",
    "id": "-iRm_fAzW2wv",
    "outputId": "dd7787d6-4644-403e-b987-7f6f75717c82"
   },
   "outputs": [
    {
     "data": {
      "text/plain": [
       "Text(0, 0.5, 'disengagement per mile')"
      ]
     },
     "execution_count": 253,
     "metadata": {},
     "output_type": "execute_result"
    },
    {
     "data": {
      "image/png": "[encoded data removed]",
      "text/plain": [
       "<Figure size 1152x432 with 1 Axes>"
      ]
     },
     "metadata": {},
     "output_type": "display_data"
    }
   ],
   "source": [
    "ax = trend.plot(x='Month',y='disengagement per mile',figsize=(16,6), linewidth=5, fontsize=20,legend=False)\n",
    "ax.set_title('Trend of Disengagement per Mile', fontsize=20)\n",
    "ax.set_xlabel('Time (month)', fontsize=20)\n",
    "ax.set_ylabel('disengagement per mile', fontsize=20)"
   ]
  },
  {
   "cell_type": "markdown",
   "metadata": {
    "colab_type": "text",
    "id": "rHn-tIa0W2wz"
   },
   "source": [
    "It can be seen that there is a decreasing trend in disengagements per mile. That means that autonomous vehicles are improving with time."
   ]
  },
  {
   "cell_type": "markdown",
   "metadata": {
    "colab_type": "text",
    "id": "12tb2yjGSAZ1"
   },
   "source": [
    "# Task 1 – Basic Analysis of AV Disengagements"
   ]
  },
  {
   "cell_type": "markdown",
   "metadata": {
    "colab_type": "text",
    "id": "kWFzasEaSAZ4"
   },
   "source": [
    "## 1. What do the following distributions signify about samples drawn from it"
   ]
  },
  {
   "cell_type": "markdown",
   "metadata": {
    "colab_type": "text",
    "id": "eLqafD48SAaA"
   },
   "source": [
    "### a. Gaussian distribution"
   ]
  },
  {
   "cell_type": "markdown",
   "metadata": {},
   "source": [
    "Central Limit theorem\n",
    "\n",
    "Let $X_1,X_2,...,X_n$ be i.i.d. random variables with expected value $E(X_i)= \\mu$ and variance$ 0<Var(X_i)= \\sigma^2<\\infty$. Then, the random variable\n",
    "$Z_n= \\frac{\\bar{X} -\\mu}{\\sigma/ \\sqrt{n}}= \\frac{X_1+X_2+...+X_n -n\\mu} {n \\sqrt{σ}}$\n",
    "converges in distribution to the standard normal random variable as $n$ goes to infinity"
   ]
  },
  {
   "cell_type": "markdown",
   "metadata": {
    "colab": {},
    "colab_type": "code",
    "id": "itoWms_tSAZ6"
   },
   "source": [
    "The Gaussian distribution is useful because of the central limit theorem which establishes that, in some situations, when independent random variables are added, their properly normalized sum tends toward a normal distribution regardless of the underlying distribution of the original random variables. So, if we have a sample drawn from a Gaussian distribution, it siginifies that the random variable itself may be a sum of identically distributed independent random variables with some distributions.\n",
    "\n",
    "PDF: ${\\displaystyle f(x\\mid \\mu ,\\sigma ^{2})={\\frac {1}{\\sqrt {2\\pi \\sigma ^{2}}}}e^{-{\\frac {(x-\\mu )^{2}}{2\\sigma ^{2}}}}}$"
   ]
  },
  {
   "cell_type": "markdown",
   "metadata": {
    "colab_type": "text",
    "id": "qCuGwc83SAaH"
   },
   "source": [
    "### b. Exponential distribution"
   ]
  },
  {
   "cell_type": "markdown",
   "metadata": {
    "colab": {},
    "colab_type": "code",
    "id": "gadYqGLPSAaJ"
   },
   "source": [
    "The exponential distribution (also known as the negative exponential distribution) is the probability distribution that describes the time between events in a Poisson process, that is, a process in which events occur continuously and independently at a constant average rate. Also, exponential distribution exhibits the memorlyess property, i.e., $\\Pr(X> m+n \\mid X \\geq m) = \\Pr(X > n)$\n",
    "\n",
    "PDF: $ f(x;\\lambda) = \\begin{cases}\n",
    "\\lambda e^{-\\lambda x} & x \\ge 0, \\\\\n",
    "0 & x < 0.\n",
    "\\end{cases}$"
   ]
  },
  {
   "cell_type": "markdown",
   "metadata": {
    "colab_type": "text",
    "id": "1ob1ikgISAaO"
   },
   "source": [
    "### c. Weibull distribution"
   ]
  },
  {
   "cell_type": "markdown",
   "metadata": {
    "colab": {},
    "colab_type": "code",
    "id": "TjVkeKuPSAaQ"
   },
   "source": [
    "The probability density function of a Weibull random variable is:\n",
    "$\n",
    "{\\displaystyle f(x;\\lambda ,k)={\\begin{cases}{\\frac {k}{\\lambda }}\\left({\\frac {x}{\\lambda }}\\right)^{k-1}e^{-(x/\\lambda )^{k}}&x\\geq 0,\\\\0&x<0,\\end{cases}}}$\n",
    "\n",
    "where k > 0 is the shape parameter and $\\lambda$ > 0 is the scale parameter of the distribution. Its complementary cumulative distribution function is a stretched exponential function. The Weibull distribution is related to a number of other probability distributions; in particular, it interpolates between the exponential distribution (k = 1) and the Rayleigh distribution (k = 2 and ${\\displaystyle \\lambda ={\\sqrt {2}}\\sigma }).$"
   ]
  },
  {
   "cell_type": "markdown",
   "metadata": {
    "colab_type": "text",
    "id": "0OWbfxJcSAaT"
   },
   "source": [
    "## 2.  Plot the probability distribution of reaction times. Does this distribution fit any known distributions (Gaussian, Weibull, Exponential)? What does the fit distribution signify?"
   ]
  },
  {
   "cell_type": "code",
   "execution_count": 254,
   "metadata": {
    "scrolled": true
   },
   "outputs": [
    {
     "data": {
      "text/plain": [
       "Text(0, 0.5, 'Frequency')"
      ]
     },
     "execution_count": 254,
     "metadata": {},
     "output_type": "execute_result"
    },
    {
     "data": {
      "image/png": "[encoded data removed]",
      "text/plain": [
       "<Figure size 432x288 with 1 Axes>"
      ]
     },
     "metadata": {},
     "output_type": "display_data"
    }
   ],
   "source": [
    "diseng['ReactionTime'].dropna().plot(kind='hist',bins=50,density=True)\n",
    "plt.title('Probability Distribution Plot')\n",
    "plt.xlabel('Reaction Time (s)')\n",
    "plt.ylabel('Frequency')"
   ]
  },
  {
   "cell_type": "code",
   "execution_count": 263,
   "metadata": {},
   "outputs": [],
   "source": [
    "# reference:\n",
    "# https://stackoverflow.com/questions/37487830/how-to-find-probability-distribution-and-parameters-for-real-data-python-3\n",
    "\n",
    "def get_best_distribution(data,dist_names):\n",
    "    dist_results = []\n",
    "    params = {}\n",
    "    for dist_name in dist_names:\n",
    "        dist = getattr(st, dist_name)\n",
    "        # fit the distribution and get parameters\n",
    "        param = dist.fit(data)\n",
    "        params[dist_name] = param\n",
    "        # Applying the Kolmogorov-Smirnov test\n",
    "        D, p = st.kstest(data, dist_name, args=param)\n",
    "        print(\"p value for \"+dist_name+\" = \"+str(p))\n",
    "        dist_results.append((dist_name, p))\n",
    "\n",
    "    # select the best fitted distribution\n",
    "    best_dist, best_p = (max(dist_results, key=lambda item: item[1]))\n",
    "\n",
    "    print(\"Best fitting distribution: \"+str(best_dist))\n",
    "    print(\"Best p value: \"+ str(best_p))\n",
    "    print(\"Parameters for the best fit: \"+ str(params[best_dist]))\n",
    "\n",
    "    return best_dist, best_p, params[best_dist]"
   ]
  },
  {
   "cell_type": "code",
   "execution_count": 256,
   "metadata": {},
   "outputs": [
    {
     "name": "stdout",
     "output_type": "stream",
     "text": [
      "p value for norm = 0.0\n",
      "p value for expon = 2.931537575268095e-05\n",
      "p value for exponweib = 0.5797693796632608\n",
      "p value for gamma = 0.0\n",
      "Best fitting distribution: exponweib\n",
      "Best p value: 0.5797693796632608\n",
      "Parameters for the best fit: (62.13448003707407, 0.304116246270133, -0.09454998901334455, 0.00459917324040706)\n"
     ]
    }
   ],
   "source": [
    "reaction = diseng['ReactionTime'].dropna().values\n",
    "dist_names = ['norm','expon','exponweib','gamma']\n",
    "best_dist, best_p, params=get_best_distribution(reaction,dist_names)"
   ]
  },
  {
   "cell_type": "code",
   "execution_count": 257,
   "metadata": {},
   "outputs": [
    {
     "data": {
      "text/plain": [
       "Text(0, 0.5, 'Frequency')"
      ]
     },
     "execution_count": 257,
     "metadata": {},
     "output_type": "execute_result"
    },
    {
     "data": {
      "image/png": "[encoded data removed]",
      "text/plain": [
       "<Figure size 432x288 with 1 Axes>"
      ]
     },
     "metadata": {},
     "output_type": "display_data"
    }
   ],
   "source": [
    "sns.distplot(reaction,fit=stats.exponweib,kde=False)\n",
    "plt.title('Expon Weilbul Distribution Fit')\n",
    "plt.xlabel('Reaction Time (s)')\n",
    "plt.ylabel('Frequency')"
   ]
  },
  {
   "cell_type": "markdown",
   "metadata": {
    "colab_type": "text",
    "id": "50E1P7ezSAab"
   },
   "source": [
    "## 3. Compute the average reaction time"
   ]
  },
  {
   "cell_type": "markdown",
   "metadata": {
    "colab_type": "text",
    "id": "a1l2n3EaSAae"
   },
   "source": [
    "### a. For the entire duration of the dataset"
   ]
  },
  {
   "cell_type": "code",
   "execution_count": 258,
   "metadata": {
    "colab": {},
    "colab_type": "code",
    "id": "reybGrVTSAaf",
    "outputId": "b8fd8dbb-e3c1-4389-f5b7-29f25f6becf5"
   },
   "outputs": [
    {
     "name": "stdout",
     "output_type": "stream",
     "text": [
      "0.9297703252032526\n"
     ]
    }
   ],
   "source": [
    "avg_reaction_time = diseng['ReactionTime'].mean()\n",
    "print(avg_reaction_time)"
   ]
  },
  {
   "cell_type": "markdown",
   "metadata": {
    "colab_type": "text",
    "id": "3rdRbkLeSAak"
   },
   "source": [
    "### b. For the entire duration of the dataset differentiated by the location of disengagement"
   ]
  },
  {
   "cell_type": "code",
   "execution_count": 259,
   "metadata": {
    "colab": {},
    "colab_type": "code",
    "id": "5FXGDfbfSAak"
   },
   "outputs": [
    {
     "name": "stdout",
     "output_type": "stream",
     "text": [
      "              ReactionTime\n",
      "Location                  \n",
      "highway            1.48000\n",
      "urban-street       0.92865\n"
     ]
    }
   ],
   "source": [
    "avg_reaction_time = diseng.groupby(diseng['Location']).mean()\n",
    "print(avg_reaction_time)"
   ]
  },
  {
   "cell_type": "markdown",
   "metadata": {
    "colab_type": "text",
    "id": "_0XALCzLSAap"
   },
   "source": [
    "## 4. It is known that the mean reaction time for humans in non-AV cars is 1.09 seconds [4]. Is the mean reaction time for humans in AV cars different from non-AV cars? Perform a hypothesis test at a 0.05 significance level."
   ]
  },
  {
   "cell_type": "code",
   "execution_count": 260,
   "metadata": {
    "colab": {
     "base_uri": "https://localhost:8080/",
     "height": 54
    },
    "colab_type": "code",
    "id": "GRB8BYuZSAas",
    "outputId": "ab571613-5eae-4f5d-8370-a84aef5e07cf"
   },
   "outputs": [
    {
     "name": "stdout",
     "output_type": "stream",
     "text": [
      "The t-statistic is -2.099 and the p-value is 0.036.\n",
      "The mean reaction time for humans in AV cars is different from non-AV cars.\n"
     ]
    }
   ],
   "source": [
    "reaction_time = list(diseng[diseng['ReactionTime'].notnull()]['ReactionTime'])\n",
    "one_sample = st.ttest_1samp(reaction_time, 1.09)\n",
    "print(\"The t-statistic is %.3f and the p-value is %.3f.\" % one_sample)\n",
    "\n",
    "if one_sample[1] < 0.05:\n",
    "    print(\"The mean reaction time for humans in AV cars is different from non-AV cars.\")\n",
    "else:\n",
    "    print(\"The mean reaction time for humans in AV cars is not different from non-AV cars.\")"
   ]
  },
  {
   "cell_type": "markdown",
   "metadata": {
    "colab_type": "text",
    "id": "sqBpv4waSAaw"
   },
   "source": [
    "## 5. Plot the probability distribution of disengagements/mile with monthly granularity. Does this distribution fit any known distributions (Gaussian, Weibull, Exponential)? What does the fit distribution signify?"
   ]
  },
  {
   "cell_type": "code",
   "execution_count": 261,
   "metadata": {
    "colab": {
     "base_uri": "https://localhost:8080/",
     "height": 398
    },
    "colab_type": "code",
    "id": "kes7NSKiY9DN",
    "outputId": "848489bb-338d-410d-a4a9-164f679d377c"
   },
   "outputs": [
    {
     "data": {
      "text/plain": [
       "Text(0.5, 1.0, 'disengagement per mile')"
      ]
     },
     "execution_count": 261,
     "metadata": {},
     "output_type": "execute_result"
    },
    {
     "data": {
      "image/png": "[encoded data removed]",
      "text/plain": [
       "<Figure size 432x288 with 1 Axes>"
      ]
     },
     "metadata": {},
     "output_type": "display_data"
    }
   ],
   "source": [
    "trend['disengagement per mile'].plot(kind='hist',bins=40,density=True)\n",
    "plt.xlabel('disengagement', fontsize=12)\n",
    "plt.ylabel('Frequency')\n",
    "plt.title('disengagement per mile', fontsize=14)"
   ]
  },
  {
   "cell_type": "code",
   "execution_count": 230,
   "metadata": {},
   "outputs": [
    {
     "name": "stdout",
     "output_type": "stream",
     "text": [
      "p value for norm = 0.471544296974868\n",
      "p value for expon = 0.9806696005068393\n",
      "p value for exponweib = 0.0027869462809533285\n",
      "p value for gamma = 0.21767425026785103\n",
      "Best fitting distribution: expon\n",
      "Best p value: 0.9806696005068393\n",
      "Parameters for the best fit: (0.0003605973188528763, 0.0021407886857360853)\n"
     ]
    }
   ],
   "source": [
    "diseng_mile = trend['disengagement per mile'].values\n",
    "best_dist, best_p, params=get_best_distribution(diseng_mile,dist_names)"
   ]
  },
  {
   "cell_type": "code",
   "execution_count": 262,
   "metadata": {},
   "outputs": [
    {
     "data": {
      "text/plain": [
       "Text(0, 0.5, 'Frequency')"
      ]
     },
     "execution_count": 262,
     "metadata": {},
     "output_type": "execute_result"
    },
    {
     "data": {
      "image/png": "[encoded data removed]",
      "text/plain": [
       "<Figure size 432x288 with 1 Axes>"
      ]
     },
     "metadata": {},
     "output_type": "display_data"
    }
   ],
   "source": [
    "sns.distplot(diseng_mile,bins=40,fit=stats.expon,kde=False)\n",
    "plt.title('Exponential Distribution Fit')\n",
    "plt.xlabel('diseng per mile)')\n",
    "plt.ylabel('Frequency')"
   ]
  },
  {
   "cell_type": "code",
   "execution_count": 0,
   "metadata": {
    "colab": {},
    "colab_type": "code",
    "id": "vimn_NLyScTA"
   },
   "outputs": [],
   "source": []
  }
 ],
 "metadata": {
  "colab": {
   "collapsed_sections": [
    "-SE5M461SbUx"
   ],
   "name": "mp1_qasim.ipynb",
   "provenance": [],
   "version": "0.3.2"
  },
  "kernelspec": {
   "display_name": "Python 3 (Spyder)",
   "language": "python3",
   "name": "python3"
  },
  "language_info": {
   "codemirror_mode": {
    "name": "ipython",
    "version": 3
   },
   "file_extension": ".py",
   "mimetype": "text/x-python",
   "name": "python",
   "nbconvert_exporter": "python",
   "pygments_lexer": "ipython3",
   "version": "3.7.1"
  }
 },
 "nbformat": 4,
 "nbformat_minor": 1
}
